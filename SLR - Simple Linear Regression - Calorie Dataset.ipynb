{
 "cells": [
  {
   "cell_type": "code",
   "execution_count": 1,
   "id": "ba12056a",
   "metadata": {},
   "outputs": [],
   "source": [
    "# import basic libraries\n",
    "import pandas as pd\n",
    "import numpy as np"
   ]
  },
  {
   "cell_type": "code",
   "execution_count": 2,
   "id": "929599a3",
   "metadata": {},
   "outputs": [
    {
     "data": {
      "text/plain": [
       "'C:\\\\Users\\\\willn\\\\SynergisticIT\\\\Data Science\\\\Simple_Linear_Regr_Practice'"
      ]
     },
     "execution_count": 2,
     "metadata": {},
     "output_type": "execute_result"
    }
   ],
   "source": [
    "pwd"
   ]
  },
  {
   "cell_type": "code",
   "execution_count": 3,
   "id": "687f45ab",
   "metadata": {},
   "outputs": [
    {
     "data": {
      "text/html": [
       "<div>\n",
       "<style scoped>\n",
       "    .dataframe tbody tr th:only-of-type {\n",
       "        vertical-align: middle;\n",
       "    }\n",
       "\n",
       "    .dataframe tbody tr th {\n",
       "        vertical-align: top;\n",
       "    }\n",
       "\n",
       "    .dataframe thead th {\n",
       "        text-align: right;\n",
       "    }\n",
       "</style>\n",
       "<table border=\"1\" class=\"dataframe\">\n",
       "  <thead>\n",
       "    <tr style=\"text-align: right;\">\n",
       "      <th></th>\n",
       "      <th>Weight gained (grams)</th>\n",
       "      <th>Calories Consumed</th>\n",
       "    </tr>\n",
       "  </thead>\n",
       "  <tbody>\n",
       "    <tr>\n",
       "      <th>0</th>\n",
       "      <td>108</td>\n",
       "      <td>1500</td>\n",
       "    </tr>\n",
       "    <tr>\n",
       "      <th>1</th>\n",
       "      <td>200</td>\n",
       "      <td>2300</td>\n",
       "    </tr>\n",
       "    <tr>\n",
       "      <th>2</th>\n",
       "      <td>900</td>\n",
       "      <td>3400</td>\n",
       "    </tr>\n",
       "    <tr>\n",
       "      <th>3</th>\n",
       "      <td>200</td>\n",
       "      <td>2200</td>\n",
       "    </tr>\n",
       "    <tr>\n",
       "      <th>4</th>\n",
       "      <td>300</td>\n",
       "      <td>2500</td>\n",
       "    </tr>\n",
       "  </tbody>\n",
       "</table>\n",
       "</div>"
      ],
      "text/plain": [
       "   Weight gained (grams)  Calories Consumed\n",
       "0                    108               1500\n",
       "1                    200               2300\n",
       "2                    900               3400\n",
       "3                    200               2200\n",
       "4                    300               2500"
      ]
     },
     "execution_count": 3,
     "metadata": {},
     "output_type": "execute_result"
    }
   ],
   "source": [
    "calorie_df = pd.read_csv('calories_consumed.csv')\n",
    "calorie_df.head()"
   ]
  },
  {
   "cell_type": "code",
   "execution_count": 4,
   "id": "09cecef7",
   "metadata": {},
   "outputs": [
    {
     "data": {
      "text/html": [
       "<div>\n",
       "<style scoped>\n",
       "    .dataframe tbody tr th:only-of-type {\n",
       "        vertical-align: middle;\n",
       "    }\n",
       "\n",
       "    .dataframe tbody tr th {\n",
       "        vertical-align: top;\n",
       "    }\n",
       "\n",
       "    .dataframe thead th {\n",
       "        text-align: right;\n",
       "    }\n",
       "</style>\n",
       "<table border=\"1\" class=\"dataframe\">\n",
       "  <thead>\n",
       "    <tr style=\"text-align: right;\">\n",
       "      <th></th>\n",
       "      <th>Calories_Consumed</th>\n",
       "      <th>WeightGrams_Gained</th>\n",
       "    </tr>\n",
       "  </thead>\n",
       "  <tbody>\n",
       "    <tr>\n",
       "      <th>0</th>\n",
       "      <td>1500</td>\n",
       "      <td>108</td>\n",
       "    </tr>\n",
       "    <tr>\n",
       "      <th>1</th>\n",
       "      <td>2300</td>\n",
       "      <td>200</td>\n",
       "    </tr>\n",
       "    <tr>\n",
       "      <th>2</th>\n",
       "      <td>3400</td>\n",
       "      <td>900</td>\n",
       "    </tr>\n",
       "    <tr>\n",
       "      <th>3</th>\n",
       "      <td>2200</td>\n",
       "      <td>200</td>\n",
       "    </tr>\n",
       "    <tr>\n",
       "      <th>4</th>\n",
       "      <td>2500</td>\n",
       "      <td>300</td>\n",
       "    </tr>\n",
       "    <tr>\n",
       "      <th>5</th>\n",
       "      <td>1600</td>\n",
       "      <td>110</td>\n",
       "    </tr>\n",
       "    <tr>\n",
       "      <th>6</th>\n",
       "      <td>1400</td>\n",
       "      <td>128</td>\n",
       "    </tr>\n",
       "    <tr>\n",
       "      <th>7</th>\n",
       "      <td>1900</td>\n",
       "      <td>62</td>\n",
       "    </tr>\n",
       "    <tr>\n",
       "      <th>8</th>\n",
       "      <td>2800</td>\n",
       "      <td>600</td>\n",
       "    </tr>\n",
       "    <tr>\n",
       "      <th>9</th>\n",
       "      <td>3900</td>\n",
       "      <td>1100</td>\n",
       "    </tr>\n",
       "    <tr>\n",
       "      <th>10</th>\n",
       "      <td>1670</td>\n",
       "      <td>100</td>\n",
       "    </tr>\n",
       "    <tr>\n",
       "      <th>11</th>\n",
       "      <td>1900</td>\n",
       "      <td>150</td>\n",
       "    </tr>\n",
       "    <tr>\n",
       "      <th>12</th>\n",
       "      <td>2700</td>\n",
       "      <td>350</td>\n",
       "    </tr>\n",
       "    <tr>\n",
       "      <th>13</th>\n",
       "      <td>3000</td>\n",
       "      <td>700</td>\n",
       "    </tr>\n",
       "  </tbody>\n",
       "</table>\n",
       "</div>"
      ],
      "text/plain": [
       "    Calories_Consumed  WeightGrams_Gained\n",
       "0                1500                 108\n",
       "1                2300                 200\n",
       "2                3400                 900\n",
       "3                2200                 200\n",
       "4                2500                 300\n",
       "5                1600                 110\n",
       "6                1400                 128\n",
       "7                1900                  62\n",
       "8                2800                 600\n",
       "9                3900                1100\n",
       "10               1670                 100\n",
       "11               1900                 150\n",
       "12               2700                 350\n",
       "13               3000                 700"
      ]
     },
     "execution_count": 4,
     "metadata": {},
     "output_type": "execute_result"
    }
   ],
   "source": [
    "calorie_df = calorie_df.iloc[:, [1,0]]\n",
    "calorie_df.rename(columns={\"Calories Consumed\": \"Calories_Consumed\", 'Weight gained (grams)': 'WeightGrams_Gained'}, inplace=True)\n",
    "calorie_df"
   ]
  },
  {
   "cell_type": "code",
   "execution_count": 5,
   "id": "cd06c495",
   "metadata": {},
   "outputs": [
    {
     "data": {
      "text/plain": [
       "(14, 2)"
      ]
     },
     "execution_count": 5,
     "metadata": {},
     "output_type": "execute_result"
    }
   ],
   "source": [
    "calorie_df.shape"
   ]
  },
  {
   "cell_type": "markdown",
   "id": "069ff725",
   "metadata": {},
   "source": [
    "# EDA:\n",
    "- Measures of Central Tendency\n",
    "- Measures of Dispersion\n",
    "- Third moment business decision\n",
    "- Fourth moment business decision\n",
    "- Probability of distribution variables\n",
    "- Graphical representations (Histogram, Box Plot, Dot-Plot, Stem & Leaf, Bar Plot, etc..."
   ]
  },
  {
   "cell_type": "code",
   "execution_count": 6,
   "id": "198c3679",
   "metadata": {},
   "outputs": [
    {
     "data": {
      "text/plain": [
       "<BarContainer object of 14 artists>"
      ]
     },
     "execution_count": 6,
     "metadata": {},
     "output_type": "execute_result"
    },
    {
     "data": {
      "image/png": "[encoded data removed]",
      "text/plain": [
       "<Figure size 432x288 with 1 Axes>"
      ]
     },
     "metadata": {
      "needs_background": "light"
     },
     "output_type": "display_data"
    }
   ],
   "source": [
    "# Graphical representation\n",
    "import matplotlib.pyplot as plt\n",
    "\n",
    "plt.bar(height = calorie_df['WeightGrams_Gained'], x = np.arange(1, 15, 1 ))"
   ]
  },
  {
   "cell_type": "code",
   "execution_count": 7,
   "id": "7156f432",
   "metadata": {},
   "outputs": [
    {
     "data": {
      "text/plain": [
       "<BarContainer object of 14 artists>"
      ]
     },
     "execution_count": 7,
     "metadata": {},
     "output_type": "execute_result"
    },
    {
     "data": {
      "image/png": "[encoded data removed]",
      "text/plain": [
       "<Figure size 432x288 with 1 Axes>"
      ]
     },
     "metadata": {
      "needs_background": "light"
     },
     "output_type": "display_data"
    }
   ],
   "source": [
    "plt.bar(height = calorie_df['Calories_Consumed'], x=np.arange(1, 15, 1))"
   ]
  },
  {
   "cell_type": "code",
   "execution_count": 8,
   "id": "b00b1f46",
   "metadata": {},
   "outputs": [
    {
     "name": "stdout",
     "output_type": "stream",
     "text": [
      "The skewness of the WeightGrams_Gained column is ---->  1.2557366483972048\n",
      "The skewness of the Calories_Consumed column is ---->  0.4312724433726336\n"
     ]
    }
   ],
   "source": [
    "skew_value_gains = calorie_df['WeightGrams_Gained'].skew()\n",
    "kurt_value_gains = calorie_df['WeightGrams_Gained'].kurt()\n",
    "print('The skewness of the WeightGrams_Gained column is ----> ', skew_value_gains)\n",
    "print('The skewness of the Calories_Consumed column is ----> ', kurt_value_gains)"
   ]
  },
  {
   "cell_type": "code",
   "execution_count": 9,
   "id": "6ec2822b",
   "metadata": {},
   "outputs": [
    {
     "name": "stdout",
     "output_type": "stream",
     "text": [
      "The skewness of the Calories_Consumed column is ---->  0.6549299573588712\n",
      "The skewness of the Calories_Consumed column is ---->  -0.29048129735135975\n"
     ]
    }
   ],
   "source": [
    "skew_value_consumed = calorie_df['Calories_Consumed'].skew()\n",
    "kurt_value_consumed = calorie_df['Calories_Consumed'].kurt()\n",
    "print('The skewness of the Calories_Consumed column is ----> ', skew_value_consumed)\n",
    "print('The skewness of the Calories_Consumed column is ----> ', kurt_value_consumed)"
   ]
  },
  {
   "cell_type": "code",
   "execution_count": 10,
   "id": "81f98a86",
   "metadata": {},
   "outputs": [
    {
     "data": {
      "text/plain": [
       "{'whiskers': [<matplotlib.lines.Line2D at 0x1d4e06218b0>,\n",
       "  <matplotlib.lines.Line2D at 0x1d4e0621b80>],\n",
       " 'caps': [<matplotlib.lines.Line2D at 0x1d4e0621f10>,\n",
       "  <matplotlib.lines.Line2D at 0x1d4e0637160>],\n",
       " 'boxes': [<matplotlib.lines.Line2D at 0x1d4e06215e0>],\n",
       " 'medians': [<matplotlib.lines.Line2D at 0x1d4e0637430>],\n",
       " 'fliers': [<matplotlib.lines.Line2D at 0x1d4e0637700>],\n",
       " 'means': []}"
      ]
     },
     "execution_count": 10,
     "metadata": {},
     "output_type": "execute_result"
    },
    {
     "data": {
      "image/png": "[encoded data removed]",
      "text/plain": [
       "<Figure size 432x288 with 1 Axes>"
      ]
     },
     "metadata": {
      "needs_background": "light"
     },
     "output_type": "display_data"
    }
   ],
   "source": [
    "plt.boxplot(calorie_df['Calories_Consumed'], vert = False)"
   ]
  },
  {
   "cell_type": "code",
   "execution_count": 11,
   "id": "d228aa23",
   "metadata": {},
   "outputs": [
    {
     "data": {
      "text/plain": [
       "{'whiskers': [<matplotlib.lines.Line2D at 0x1d4e068abe0>,\n",
       "  <matplotlib.lines.Line2D at 0x1d4e068aeb0>],\n",
       " 'caps': [<matplotlib.lines.Line2D at 0x1d4e069b1c0>,\n",
       "  <matplotlib.lines.Line2D at 0x1d4e069b490>],\n",
       " 'boxes': [<matplotlib.lines.Line2D at 0x1d4e068a910>],\n",
       " 'medians': [<matplotlib.lines.Line2D at 0x1d4e069b760>],\n",
       " 'fliers': [<matplotlib.lines.Line2D at 0x1d4e069ba30>],\n",
       " 'means': []}"
      ]
     },
     "execution_count": 11,
     "metadata": {},
     "output_type": "execute_result"
    },
    {
     "data": {
      "image/png": "[encoded data removed]",
      "text/plain": [
       "<Figure size 432x288 with 1 Axes>"
      ]
     },
     "metadata": {
      "needs_background": "light"
     },
     "output_type": "display_data"
    }
   ],
   "source": [
    "plt.boxplot(calorie_df['WeightGrams_Gained'], vert = False)"
   ]
  },
  {
   "cell_type": "code",
   "execution_count": 12,
   "id": "f9225d9d",
   "metadata": {},
   "outputs": [
    {
     "data": {
      "text/plain": [
       "<matplotlib.collections.PathCollection at 0x1d4e06ec490>"
      ]
     },
     "execution_count": 12,
     "metadata": {},
     "output_type": "execute_result"
    },
    {
     "data": {
      "image/png": "[encoded data removed]",
      "text/plain": [
       "<Figure size 432x288 with 1 Axes>"
      ]
     },
     "metadata": {
      "needs_background": "light"
     },
     "output_type": "display_data"
    }
   ],
   "source": [
    "plt.scatter(x=calorie_df['Calories_Consumed'], y = calorie_df['WeightGrams_Gained'], color='purple')"
   ]
  },
  {
   "cell_type": "code",
   "execution_count": 13,
   "id": "aeb41d92",
   "metadata": {},
   "outputs": [
    {
     "data": {
      "text/plain": [
       "array([[1.        , 0.94699101],\n",
       "       [0.94699101, 1.        ]])"
      ]
     },
     "execution_count": 13,
     "metadata": {},
     "output_type": "execute_result"
    }
   ],
   "source": [
    "np.corrcoef(calorie_df['Calories_Consumed'], calorie_df['WeightGrams_Gained'])"
   ]
  },
  {
   "cell_type": "markdown",
   "id": "27b14b74",
   "metadata": {},
   "source": [
    "## Covariance\n",
    "- A measure of the joint variability of two random variables. If the greater values of one variable mainly correspond with the greater values of the other variable, and the same holds true for the lesser values, the covariance is positive. In the opposite case, when the greater values of one variable mainly correspond to the fewer values of the other, (that is, the variables tend to show opposite behavior), the covariance is negative. The sign of covariance, therefore, shows the tendency in the linear relationship between the variables. The magnitude of covariance is not easy to interpret because it is not normalized and hence depends on the magnitudes of the variables. **The normalized version of covariance ---> the correlation coefficient, however, shows by its magnitude the strength of the linear relationship.**"
   ]
  },
  {
   "cell_type": "code",
   "execution_count": 14,
   "id": "a8f15b90",
   "metadata": {},
   "outputs": [
    {
     "data": {
      "text/plain": [
       "237669.4505494506"
      ]
     },
     "execution_count": 14,
     "metadata": {},
     "output_type": "execute_result"
    }
   ],
   "source": [
    "# Covariance\n",
    "# NumPy does not have a function to calculate the covariance between two variables directly. \n",
    "# Function for calculating a covariance matrix called cov()\n",
    "# By default, the cov() function will calculate the unbiased or sample covariance between the provided random variables\n",
    "\n",
    "cov_output = np.cov(calorie_df['Calories_Consumed'], calorie_df['WeightGrams_Gained'])[0,1] ##<---Whats this?\n",
    "cov_output"
   ]
  },
  {
   "cell_type": "code",
   "execution_count": 15,
   "id": "69907005",
   "metadata": {},
   "outputs": [
    {
     "name": "stderr",
     "output_type": "stream",
     "text": [
      "C:\\Users\\willn\\anaconda3\\lib\\site-packages\\scipy\\stats\\stats.py:1541: UserWarning: kurtosistest only valid for n>=20 ... continuing anyway, n=14\n",
      "  warnings.warn(\"kurtosistest only valid for n>=20 ... continuing \"\n"
     ]
    },
    {
     "data": {
      "text/html": [
       "<table class=\"simpletable\">\n",
       "<caption>OLS Regression Results</caption>\n",
       "<tr>\n",
       "  <th>Dep. Variable:</th>    <td>WeightGrams_Gained</td> <th>  R-squared:         </th> <td>   0.897</td>\n",
       "</tr>\n",
       "<tr>\n",
       "  <th>Model:</th>                    <td>OLS</td>        <th>  Adj. R-squared:    </th> <td>   0.888</td>\n",
       "</tr>\n",
       "<tr>\n",
       "  <th>Method:</th>              <td>Least Squares</td>   <th>  F-statistic:       </th> <td>   104.3</td>\n",
       "</tr>\n",
       "<tr>\n",
       "  <th>Date:</th>              <td>Wed, 01 Feb 2023</td>  <th>  Prob (F-statistic):</th> <td>2.86e-07</td>\n",
       "</tr>\n",
       "<tr>\n",
       "  <th>Time:</th>                  <td>17:25:49</td>      <th>  Log-Likelihood:    </th> <td> -84.792</td>\n",
       "</tr>\n",
       "<tr>\n",
       "  <th>No. Observations:</th>       <td>    14</td>       <th>  AIC:               </th> <td>   173.6</td>\n",
       "</tr>\n",
       "<tr>\n",
       "  <th>Df Residuals:</th>           <td>    12</td>       <th>  BIC:               </th> <td>   174.9</td>\n",
       "</tr>\n",
       "<tr>\n",
       "  <th>Df Model:</th>               <td>     1</td>       <th>                     </th>     <td> </td>   \n",
       "</tr>\n",
       "<tr>\n",
       "  <th>Covariance Type:</th>       <td>nonrobust</td>     <th>                     </th>     <td> </td>   \n",
       "</tr>\n",
       "</table>\n",
       "<table class=\"simpletable\">\n",
       "<tr>\n",
       "          <td></td>             <th>coef</th>     <th>std err</th>      <th>t</th>      <th>P>|t|</th>  <th>[0.025</th>    <th>0.975]</th>  \n",
       "</tr>\n",
       "<tr>\n",
       "  <th>Intercept</th>         <td> -625.7524</td> <td>  100.823</td> <td>   -6.206</td> <td> 0.000</td> <td> -845.427</td> <td> -406.078</td>\n",
       "</tr>\n",
       "<tr>\n",
       "  <th>Calories_Consumed</th> <td>    0.4202</td> <td>    0.041</td> <td>   10.211</td> <td> 0.000</td> <td>    0.331</td> <td>    0.510</td>\n",
       "</tr>\n",
       "</table>\n",
       "<table class=\"simpletable\">\n",
       "<tr>\n",
       "  <th>Omnibus:</th>       <td> 3.394</td> <th>  Durbin-Watson:     </th> <td>   2.537</td>\n",
       "</tr>\n",
       "<tr>\n",
       "  <th>Prob(Omnibus):</th> <td> 0.183</td> <th>  Jarque-Bera (JB):  </th> <td>   1.227</td>\n",
       "</tr>\n",
       "<tr>\n",
       "  <th>Skew:</th>          <td>-0.203</td> <th>  Prob(JB):          </th> <td>   0.541</td>\n",
       "</tr>\n",
       "<tr>\n",
       "  <th>Kurtosis:</th>      <td> 1.608</td> <th>  Cond. No.          </th> <td>8.28e+03</td>\n",
       "</tr>\n",
       "</table><br/><br/>Notes:<br/>[1] Standard Errors assume that the covariance matrix of the errors is correctly specified.<br/>[2] The condition number is large, 8.28e+03. This might indicate that there are<br/>strong multicollinearity or other numerical problems."
      ],
      "text/plain": [
       "<class 'statsmodels.iolib.summary.Summary'>\n",
       "\"\"\"\n",
       "                            OLS Regression Results                            \n",
       "==============================================================================\n",
       "Dep. Variable:     WeightGrams_Gained   R-squared:                       0.897\n",
       "Model:                            OLS   Adj. R-squared:                  0.888\n",
       "Method:                 Least Squares   F-statistic:                     104.3\n",
       "Date:                Wed, 01 Feb 2023   Prob (F-statistic):           2.86e-07\n",
       "Time:                        17:25:49   Log-Likelihood:                -84.792\n",
       "No. Observations:                  14   AIC:                             173.6\n",
       "Df Residuals:                      12   BIC:                             174.9\n",
       "Df Model:                           1                                         \n",
       "Covariance Type:            nonrobust                                         \n",
       "=====================================================================================\n",
       "                        coef    std err          t      P>|t|      [0.025      0.975]\n",
       "-------------------------------------------------------------------------------------\n",
       "Intercept          -625.7524    100.823     -6.206      0.000    -845.427    -406.078\n",
       "Calories_Consumed     0.4202      0.041     10.211      0.000       0.331       0.510\n",
       "==============================================================================\n",
       "Omnibus:                        3.394   Durbin-Watson:                   2.537\n",
       "Prob(Omnibus):                  0.183   Jarque-Bera (JB):                1.227\n",
       "Skew:                          -0.203   Prob(JB):                        0.541\n",
       "Kurtosis:                       1.608   Cond. No.                     8.28e+03\n",
       "==============================================================================\n",
       "\n",
       "Notes:\n",
       "[1] Standard Errors assume that the covariance matrix of the errors is correctly specified.\n",
       "[2] The condition number is large, 8.28e+03. This might indicate that there are\n",
       "strong multicollinearity or other numerical problems.\n",
       "\"\"\""
      ]
     },
     "execution_count": 15,
     "metadata": {},
     "output_type": "execute_result"
    }
   ],
   "source": [
    "# import stats package(s)\n",
    "import statsmodels.formula.api as smf\n",
    "\n",
    "# Simple Linear Regression (SLR)\n",
    "model = smf.ols('WeightGrams_Gained ~ Calories_Consumed', data=calorie_df).fit()\n",
    "model.summary()"
   ]
  },
  {
   "cell_type": "code",
   "execution_count": 16,
   "id": "8f0b289d",
   "metadata": {},
   "outputs": [
    {
     "data": {
      "text/html": [
       "<div>\n",
       "<style scoped>\n",
       "    .dataframe tbody tr th:only-of-type {\n",
       "        vertical-align: middle;\n",
       "    }\n",
       "\n",
       "    .dataframe tbody tr th {\n",
       "        vertical-align: top;\n",
       "    }\n",
       "\n",
       "    .dataframe thead th {\n",
       "        text-align: right;\n",
       "    }\n",
       "</style>\n",
       "<table border=\"1\" class=\"dataframe\">\n",
       "  <thead>\n",
       "    <tr style=\"text-align: right;\">\n",
       "      <th></th>\n",
       "      <th>Calories_Consumed</th>\n",
       "      <th>WeightGrams_Gained</th>\n",
       "    </tr>\n",
       "  </thead>\n",
       "  <tbody>\n",
       "    <tr>\n",
       "      <th>0</th>\n",
       "      <td>1500</td>\n",
       "      <td>108</td>\n",
       "    </tr>\n",
       "    <tr>\n",
       "      <th>1</th>\n",
       "      <td>2300</td>\n",
       "      <td>200</td>\n",
       "    </tr>\n",
       "    <tr>\n",
       "      <th>2</th>\n",
       "      <td>3400</td>\n",
       "      <td>900</td>\n",
       "    </tr>\n",
       "    <tr>\n",
       "      <th>3</th>\n",
       "      <td>2200</td>\n",
       "      <td>200</td>\n",
       "    </tr>\n",
       "    <tr>\n",
       "      <th>4</th>\n",
       "      <td>2500</td>\n",
       "      <td>300</td>\n",
       "    </tr>\n",
       "    <tr>\n",
       "      <th>5</th>\n",
       "      <td>1600</td>\n",
       "      <td>110</td>\n",
       "    </tr>\n",
       "    <tr>\n",
       "      <th>6</th>\n",
       "      <td>1400</td>\n",
       "      <td>128</td>\n",
       "    </tr>\n",
       "    <tr>\n",
       "      <th>7</th>\n",
       "      <td>1900</td>\n",
       "      <td>62</td>\n",
       "    </tr>\n",
       "    <tr>\n",
       "      <th>8</th>\n",
       "      <td>2800</td>\n",
       "      <td>600</td>\n",
       "    </tr>\n",
       "    <tr>\n",
       "      <th>9</th>\n",
       "      <td>3900</td>\n",
       "      <td>1100</td>\n",
       "    </tr>\n",
       "    <tr>\n",
       "      <th>10</th>\n",
       "      <td>1670</td>\n",
       "      <td>100</td>\n",
       "    </tr>\n",
       "    <tr>\n",
       "      <th>11</th>\n",
       "      <td>1900</td>\n",
       "      <td>150</td>\n",
       "    </tr>\n",
       "    <tr>\n",
       "      <th>12</th>\n",
       "      <td>2700</td>\n",
       "      <td>350</td>\n",
       "    </tr>\n",
       "    <tr>\n",
       "      <th>13</th>\n",
       "      <td>3000</td>\n",
       "      <td>700</td>\n",
       "    </tr>\n",
       "  </tbody>\n",
       "</table>\n",
       "</div>"
      ],
      "text/plain": [
       "    Calories_Consumed  WeightGrams_Gained\n",
       "0                1500                 108\n",
       "1                2300                 200\n",
       "2                3400                 900\n",
       "3                2200                 200\n",
       "4                2500                 300\n",
       "5                1600                 110\n",
       "6                1400                 128\n",
       "7                1900                  62\n",
       "8                2800                 600\n",
       "9                3900                1100\n",
       "10               1670                 100\n",
       "11               1900                 150\n",
       "12               2700                 350\n",
       "13               3000                 700"
      ]
     },
     "execution_count": 16,
     "metadata": {},
     "output_type": "execute_result"
    }
   ],
   "source": [
    "calorie_df"
   ]
  },
  {
   "cell_type": "code",
   "execution_count": 18,
   "id": "20197290",
   "metadata": {},
   "outputs": [],
   "source": [
    "pred1 = model.predict(calorie_df['Calories_Consumed'])"
   ]
  },
  {
   "cell_type": "code",
   "execution_count": 19,
   "id": "73dc1a17",
   "metadata": {},
   "outputs": [],
   "source": [
    "calorie_df['WeightGain_Pred'] = pred1"
   ]
  },
  {
   "cell_type": "code",
   "execution_count": 20,
   "id": "7408f0a3",
   "metadata": {},
   "outputs": [
    {
     "data": {
      "text/html": [
       "<div>\n",
       "<style scoped>\n",
       "    .dataframe tbody tr th:only-of-type {\n",
       "        vertical-align: middle;\n",
       "    }\n",
       "\n",
       "    .dataframe tbody tr th {\n",
       "        vertical-align: top;\n",
       "    }\n",
       "\n",
       "    .dataframe thead th {\n",
       "        text-align: right;\n",
       "    }\n",
       "</style>\n",
       "<table border=\"1\" class=\"dataframe\">\n",
       "  <thead>\n",
       "    <tr style=\"text-align: right;\">\n",
       "      <th></th>\n",
       "      <th>Calories_Consumed</th>\n",
       "      <th>WeightGrams_Gained</th>\n",
       "      <th>WeightGain_Pred</th>\n",
       "    </tr>\n",
       "  </thead>\n",
       "  <tbody>\n",
       "    <tr>\n",
       "      <th>0</th>\n",
       "      <td>1500</td>\n",
       "      <td>108</td>\n",
       "      <td>4.482599</td>\n",
       "    </tr>\n",
       "    <tr>\n",
       "      <th>1</th>\n",
       "      <td>2300</td>\n",
       "      <td>200</td>\n",
       "      <td>340.607908</td>\n",
       "    </tr>\n",
       "    <tr>\n",
       "      <th>2</th>\n",
       "      <td>3400</td>\n",
       "      <td>900</td>\n",
       "      <td>802.780209</td>\n",
       "    </tr>\n",
       "    <tr>\n",
       "      <th>3</th>\n",
       "      <td>2200</td>\n",
       "      <td>200</td>\n",
       "      <td>298.592245</td>\n",
       "    </tr>\n",
       "    <tr>\n",
       "      <th>4</th>\n",
       "      <td>2500</td>\n",
       "      <td>300</td>\n",
       "      <td>424.639236</td>\n",
       "    </tr>\n",
       "    <tr>\n",
       "      <th>5</th>\n",
       "      <td>1600</td>\n",
       "      <td>110</td>\n",
       "      <td>46.498263</td>\n",
       "    </tr>\n",
       "    <tr>\n",
       "      <th>6</th>\n",
       "      <td>1400</td>\n",
       "      <td>128</td>\n",
       "      <td>-37.533065</td>\n",
       "    </tr>\n",
       "    <tr>\n",
       "      <th>7</th>\n",
       "      <td>1900</td>\n",
       "      <td>62</td>\n",
       "      <td>172.545254</td>\n",
       "    </tr>\n",
       "    <tr>\n",
       "      <th>8</th>\n",
       "      <td>2800</td>\n",
       "      <td>600</td>\n",
       "      <td>550.686227</td>\n",
       "    </tr>\n",
       "    <tr>\n",
       "      <th>9</th>\n",
       "      <td>3900</td>\n",
       "      <td>1100</td>\n",
       "      <td>1012.858527</td>\n",
       "    </tr>\n",
       "    <tr>\n",
       "      <th>10</th>\n",
       "      <td>1670</td>\n",
       "      <td>100</td>\n",
       "      <td>75.909227</td>\n",
       "    </tr>\n",
       "    <tr>\n",
       "      <th>11</th>\n",
       "      <td>1900</td>\n",
       "      <td>150</td>\n",
       "      <td>172.545254</td>\n",
       "    </tr>\n",
       "    <tr>\n",
       "      <th>12</th>\n",
       "      <td>2700</td>\n",
       "      <td>350</td>\n",
       "      <td>508.670563</td>\n",
       "    </tr>\n",
       "    <tr>\n",
       "      <th>13</th>\n",
       "      <td>3000</td>\n",
       "      <td>700</td>\n",
       "      <td>634.717554</td>\n",
       "    </tr>\n",
       "  </tbody>\n",
       "</table>\n",
       "</div>"
      ],
      "text/plain": [
       "    Calories_Consumed  WeightGrams_Gained  WeightGain_Pred\n",
       "0                1500                 108         4.482599\n",
       "1                2300                 200       340.607908\n",
       "2                3400                 900       802.780209\n",
       "3                2200                 200       298.592245\n",
       "4                2500                 300       424.639236\n",
       "5                1600                 110        46.498263\n",
       "6                1400                 128       -37.533065\n",
       "7                1900                  62       172.545254\n",
       "8                2800                 600       550.686227\n",
       "9                3900                1100      1012.858527\n",
       "10               1670                 100        75.909227\n",
       "11               1900                 150       172.545254\n",
       "12               2700                 350       508.670563\n",
       "13               3000                 700       634.717554"
      ]
     },
     "execution_count": 20,
     "metadata": {},
     "output_type": "execute_result"
    }
   ],
   "source": [
    "calorie_df"
   ]
  },
  {
   "cell_type": "code",
   "execution_count": 21,
   "id": "9175a05b",
   "metadata": {},
   "outputs": [
    {
     "data": {
      "image/png": "[encoded data removed]",
      "text/plain": [
       "<Figure size 432x288 with 1 Axes>"
      ]
     },
     "metadata": {
      "needs_background": "light"
     },
     "output_type": "display_data"
    }
   ],
   "source": [
    "# Regression Line\n",
    "plt.scatter(calorie_df.Calories_Consumed, calorie_df.WeightGrams_Gained)\n",
    "plt.plot(calorie_df.Calories_Consumed, pred1, 'r')\n",
    "plt.legend(['Prediction Line', 'Observed Data'])\n",
    "plt.show()"
   ]
  },
  {
   "cell_type": "code",
   "execution_count": 23,
   "id": "85a7a51d",
   "metadata": {},
   "outputs": [
    {
     "data": {
      "text/plain": [
       "0     103.517401\n",
       "1    -140.607908\n",
       "2      97.219791\n",
       "3     -98.592245\n",
       "4    -124.639236\n",
       "5      63.501737\n",
       "6     165.533065\n",
       "7    -110.545254\n",
       "8      49.313773\n",
       "9      87.141473\n",
       "10     24.090773\n",
       "11    -22.545254\n",
       "12   -158.670563\n",
       "13     65.282446\n",
       "dtype: float64"
      ]
     },
     "execution_count": 23,
     "metadata": {},
     "output_type": "execute_result"
    }
   ],
   "source": [
    "error = calorie_df.WeightGrams_Gained - calorie_df.WeightGain_Pred\n",
    "error"
   ]
  },
  {
   "cell_type": "code",
   "execution_count": 24,
   "id": "95922f7b",
   "metadata": {},
   "outputs": [
    {
     "data": {
      "text/plain": [
       "0     10715.852285\n",
       "1     19770.583896\n",
       "2      9451.687843\n",
       "3      9720.430718\n",
       "4     15534.939071\n",
       "5      4032.470630\n",
       "6     27401.195454\n",
       "7     12220.253126\n",
       "8      2431.848242\n",
       "9      7593.636341\n",
       "10      580.365328\n",
       "11      508.288466\n",
       "12    25176.347560\n",
       "13     4261.797761\n",
       "dtype: float64"
      ]
     },
     "execution_count": 24,
     "metadata": {},
     "output_type": "execute_result"
    }
   ],
   "source": [
    "squared_error = error**2\n",
    "squared_error"
   ]
  },
  {
   "cell_type": "code",
   "execution_count": 25,
   "id": "b022b0e3",
   "metadata": {},
   "outputs": [
    {
     "data": {
      "text/plain": [
       "10671.406908565588"
      ]
     },
     "execution_count": 25,
     "metadata": {},
     "output_type": "execute_result"
    }
   ],
   "source": [
    "mean_square_error1 = np.mean(squared_error)\n",
    "mean_square_error1"
   ]
  },
  {
   "cell_type": "code",
   "execution_count": 26,
   "id": "137ea5cd",
   "metadata": {},
   "outputs": [
    {
     "data": {
      "text/plain": [
       "103.30250194726935"
      ]
     },
     "execution_count": 26,
     "metadata": {},
     "output_type": "execute_result"
    }
   ],
   "source": [
    "root_mean_squared_error = np.sqrt(mean_square_error1)\n",
    "root_mean_squared_error"
   ]
  },
  {
   "cell_type": "code",
   "execution_count": 27,
   "id": "5dd07d06",
   "metadata": {},
   "outputs": [],
   "source": [
    "## This value is over 100, so how can I subtract it from 100 and get a viable number; I do not believe that -3.3 can be an\n",
    "## error value that means anything. "
   ]
  },
  {
   "cell_type": "code",
   "execution_count": 29,
   "id": "be7ffd9c",
   "metadata": {},
   "outputs": [
    {
     "name": "stderr",
     "output_type": "stream",
     "text": [
      "C:\\Users\\willn\\anaconda3\\lib\\site-packages\\scipy\\stats\\stats.py:1541: UserWarning: kurtosistest only valid for n>=20 ... continuing anyway, n=14\n",
      "  warnings.warn(\"kurtosistest only valid for n>=20 ... continuing \"\n"
     ]
    },
    {
     "data": {
      "text/html": [
       "<table class=\"simpletable\">\n",
       "<caption>OLS Regression Results</caption>\n",
       "<tr>\n",
       "  <th>Dep. Variable:</th>    <td>WeightGrams_Gained</td> <th>  R-squared:         </th> <td>   0.808</td>\n",
       "</tr>\n",
       "<tr>\n",
       "  <th>Model:</th>                    <td>OLS</td>        <th>  Adj. R-squared:    </th> <td>   0.792</td>\n",
       "</tr>\n",
       "<tr>\n",
       "  <th>Method:</th>              <td>Least Squares</td>   <th>  F-statistic:       </th> <td>   50.40</td>\n",
       "</tr>\n",
       "<tr>\n",
       "  <th>Date:</th>              <td>Wed, 01 Feb 2023</td>  <th>  Prob (F-statistic):</th> <td>1.25e-05</td>\n",
       "</tr>\n",
       "<tr>\n",
       "  <th>Time:</th>                  <td>17:34:33</td>      <th>  Log-Likelihood:    </th> <td> -89.148</td>\n",
       "</tr>\n",
       "<tr>\n",
       "  <th>No. Observations:</th>       <td>    14</td>       <th>  AIC:               </th> <td>   182.3</td>\n",
       "</tr>\n",
       "<tr>\n",
       "  <th>Df Residuals:</th>           <td>    12</td>       <th>  BIC:               </th> <td>   183.6</td>\n",
       "</tr>\n",
       "<tr>\n",
       "  <th>Df Model:</th>               <td>     1</td>       <th>                     </th>     <td> </td>   \n",
       "</tr>\n",
       "<tr>\n",
       "  <th>Covariance Type:</th>       <td>nonrobust</td>     <th>                     </th>     <td> </td>   \n",
       "</tr>\n",
       "</table>\n",
       "<table class=\"simpletable\">\n",
       "<tr>\n",
       "              <td></td>                 <th>coef</th>     <th>std err</th>      <th>t</th>      <th>P>|t|</th>  <th>[0.025</th>    <th>0.975]</th>  \n",
       "</tr>\n",
       "<tr>\n",
       "  <th>Intercept</th>                 <td>-6955.6501</td> <td> 1030.908</td> <td>   -6.747</td> <td> 0.000</td> <td>-9201.806</td> <td>-4709.494</td>\n",
       "</tr>\n",
       "<tr>\n",
       "  <th>np.log(Calories_Consumed)</th> <td>  948.3717</td> <td>  133.580</td> <td>    7.100</td> <td> 0.000</td> <td>  657.325</td> <td> 1239.418</td>\n",
       "</tr>\n",
       "</table>\n",
       "<table class=\"simpletable\">\n",
       "<tr>\n",
       "  <th>Omnibus:</th>       <td> 3.265</td> <th>  Durbin-Watson:     </th> <td>   2.438</td>\n",
       "</tr>\n",
       "<tr>\n",
       "  <th>Prob(Omnibus):</th> <td> 0.195</td> <th>  Jarque-Bera (JB):  </th> <td>   1.139</td>\n",
       "</tr>\n",
       "<tr>\n",
       "  <th>Skew:</th>          <td> 0.046</td> <th>  Prob(JB):          </th> <td>   0.566</td>\n",
       "</tr>\n",
       "<tr>\n",
       "  <th>Kurtosis:</th>      <td> 1.606</td> <th>  Cond. No.          </th> <td>    199.</td>\n",
       "</tr>\n",
       "</table><br/><br/>Notes:<br/>[1] Standard Errors assume that the covariance matrix of the errors is correctly specified."
      ],
      "text/plain": [
       "<class 'statsmodels.iolib.summary.Summary'>\n",
       "\"\"\"\n",
       "                            OLS Regression Results                            \n",
       "==============================================================================\n",
       "Dep. Variable:     WeightGrams_Gained   R-squared:                       0.808\n",
       "Model:                            OLS   Adj. R-squared:                  0.792\n",
       "Method:                 Least Squares   F-statistic:                     50.40\n",
       "Date:                Wed, 01 Feb 2023   Prob (F-statistic):           1.25e-05\n",
       "Time:                        17:34:33   Log-Likelihood:                -89.148\n",
       "No. Observations:                  14   AIC:                             182.3\n",
       "Df Residuals:                      12   BIC:                             183.6\n",
       "Df Model:                           1                                         \n",
       "Covariance Type:            nonrobust                                         \n",
       "=============================================================================================\n",
       "                                coef    std err          t      P>|t|      [0.025      0.975]\n",
       "---------------------------------------------------------------------------------------------\n",
       "Intercept                 -6955.6501   1030.908     -6.747      0.000   -9201.806   -4709.494\n",
       "np.log(Calories_Consumed)   948.3717    133.580      7.100      0.000     657.325    1239.418\n",
       "==============================================================================\n",
       "Omnibus:                        3.265   Durbin-Watson:                   2.438\n",
       "Prob(Omnibus):                  0.195   Jarque-Bera (JB):                1.139\n",
       "Skew:                           0.046   Prob(JB):                        0.566\n",
       "Kurtosis:                       1.606   Cond. No.                         199.\n",
       "==============================================================================\n",
       "\n",
       "Notes:\n",
       "[1] Standard Errors assume that the covariance matrix of the errors is correctly specified.\n",
       "\"\"\""
      ]
     },
     "execution_count": 29,
     "metadata": {},
     "output_type": "execute_result"
    }
   ],
   "source": [
    "#### Model Building on Transformed Data\n",
    "model2= smf.ols('WeightGrams_Gained ~ np.log(Calories_Consumed)', data=calorie_df).fit()\n",
    "model2.summary()"
   ]
  },
  {
   "cell_type": "code",
   "execution_count": 30,
   "id": "5baa9914",
   "metadata": {},
   "outputs": [],
   "source": [
    "pred2 = model2.predict(pd.DataFrame(calorie_df['Calories_Consumed']))"
   ]
  },
  {
   "cell_type": "code",
   "execution_count": 31,
   "id": "477111c4",
   "metadata": {},
   "outputs": [
    {
     "data": {
      "text/html": [
       "<div>\n",
       "<style scoped>\n",
       "    .dataframe tbody tr th:only-of-type {\n",
       "        vertical-align: middle;\n",
       "    }\n",
       "\n",
       "    .dataframe tbody tr th {\n",
       "        vertical-align: top;\n",
       "    }\n",
       "\n",
       "    .dataframe thead th {\n",
       "        text-align: right;\n",
       "    }\n",
       "</style>\n",
       "<table border=\"1\" class=\"dataframe\">\n",
       "  <thead>\n",
       "    <tr style=\"text-align: right;\">\n",
       "      <th></th>\n",
       "      <th>Calories_Consumed</th>\n",
       "      <th>WeightGrams_Gained</th>\n",
       "      <th>WeightGain_Pred</th>\n",
       "      <th>WeightGain_Pred2</th>\n",
       "    </tr>\n",
       "  </thead>\n",
       "  <tbody>\n",
       "    <tr>\n",
       "      <th>0</th>\n",
       "      <td>1500</td>\n",
       "      <td>108</td>\n",
       "      <td>4.482599</td>\n",
       "      <td>-19.998702</td>\n",
       "    </tr>\n",
       "    <tr>\n",
       "      <th>1</th>\n",
       "      <td>2300</td>\n",
       "      <td>200</td>\n",
       "      <td>340.607908</td>\n",
       "      <td>385.377115</td>\n",
       "    </tr>\n",
       "    <tr>\n",
       "      <th>2</th>\n",
       "      <td>3400</td>\n",
       "      <td>900</td>\n",
       "      <td>802.780209</td>\n",
       "      <td>756.063670</td>\n",
       "    </tr>\n",
       "    <tr>\n",
       "      <th>3</th>\n",
       "      <td>2200</td>\n",
       "      <td>200</td>\n",
       "      <td>298.592245</td>\n",
       "      <td>343.220320</td>\n",
       "    </tr>\n",
       "    <tr>\n",
       "      <th>4</th>\n",
       "      <td>2500</td>\n",
       "      <td>300</td>\n",
       "      <td>424.639236</td>\n",
       "      <td>464.453875</td>\n",
       "    </tr>\n",
       "    <tr>\n",
       "      <th>5</th>\n",
       "      <td>1600</td>\n",
       "      <td>110</td>\n",
       "      <td>46.498263</td>\n",
       "      <td>41.207806</td>\n",
       "    </tr>\n",
       "    <tr>\n",
       "      <th>6</th>\n",
       "      <td>1400</td>\n",
       "      <td>128</td>\n",
       "      <td>-37.533065</td>\n",
       "      <td>-85.429591</td>\n",
       "    </tr>\n",
       "    <tr>\n",
       "      <th>7</th>\n",
       "      <td>1900</td>\n",
       "      <td>62</td>\n",
       "      <td>172.545254</td>\n",
       "      <td>204.185731</td>\n",
       "    </tr>\n",
       "    <tr>\n",
       "      <th>8</th>\n",
       "      <td>2800</td>\n",
       "      <td>600</td>\n",
       "      <td>550.686227</td>\n",
       "      <td>571.931596</td>\n",
       "    </tr>\n",
       "    <tr>\n",
       "      <th>9</th>\n",
       "      <td>3900</td>\n",
       "      <td>1100</td>\n",
       "      <td>1012.858527</td>\n",
       "      <td>886.181334</td>\n",
       "    </tr>\n",
       "    <tr>\n",
       "      <th>10</th>\n",
       "      <td>1670</td>\n",
       "      <td>100</td>\n",
       "      <td>75.909227</td>\n",
       "      <td>81.817081</td>\n",
       "    </tr>\n",
       "    <tr>\n",
       "      <th>11</th>\n",
       "      <td>1900</td>\n",
       "      <td>150</td>\n",
       "      <td>172.545254</td>\n",
       "      <td>204.185731</td>\n",
       "    </tr>\n",
       "    <tr>\n",
       "      <th>12</th>\n",
       "      <td>2700</td>\n",
       "      <td>350</td>\n",
       "      <td>508.670563</td>\n",
       "      <td>537.441550</td>\n",
       "    </tr>\n",
       "    <tr>\n",
       "      <th>13</th>\n",
       "      <td>3000</td>\n",
       "      <td>700</td>\n",
       "      <td>634.717554</td>\n",
       "      <td>637.362484</td>\n",
       "    </tr>\n",
       "  </tbody>\n",
       "</table>\n",
       "</div>"
      ],
      "text/plain": [
       "    Calories_Consumed  WeightGrams_Gained  WeightGain_Pred  WeightGain_Pred2\n",
       "0                1500                 108         4.482599        -19.998702\n",
       "1                2300                 200       340.607908        385.377115\n",
       "2                3400                 900       802.780209        756.063670\n",
       "3                2200                 200       298.592245        343.220320\n",
       "4                2500                 300       424.639236        464.453875\n",
       "5                1600                 110        46.498263         41.207806\n",
       "6                1400                 128       -37.533065        -85.429591\n",
       "7                1900                  62       172.545254        204.185731\n",
       "8                2800                 600       550.686227        571.931596\n",
       "9                3900                1100      1012.858527        886.181334\n",
       "10               1670                 100        75.909227         81.817081\n",
       "11               1900                 150       172.545254        204.185731\n",
       "12               2700                 350       508.670563        537.441550\n",
       "13               3000                 700       634.717554        637.362484"
      ]
     },
     "execution_count": 31,
     "metadata": {},
     "output_type": "execute_result"
    }
   ],
   "source": [
    "calorie_df['WeightGain_Pred2'] = pred2\n",
    "calorie_df"
   ]
  },
  {
   "cell_type": "code",
   "execution_count": null,
   "id": "78a46b79",
   "metadata": {},
   "outputs": [],
   "source": []
  }
 ],
 "metadata": {
  "kernelspec": {
   "display_name": "Python 3 (ipykernel)",
   "language": "python",
   "name": "python3"
  },
  "language_info": {
   "codemirror_mode": {
    "name": "ipython",
    "version": 3
   },
   "file_extension": ".py",
   "mimetype": "text/x-python",
   "name": "python",
   "nbconvert_exporter": "python",
   "pygments_lexer": "ipython3",
   "version": "3.9.12"
  }
 },
 "nbformat": 4,
 "nbformat_minor": 5
}
